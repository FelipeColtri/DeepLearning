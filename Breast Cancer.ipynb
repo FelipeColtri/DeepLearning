{
 "cells": [
  {
   "cell_type": "markdown",
   "id": "6503d2f1",
   "metadata": {},
   "source": [
    "# Dataset Breast Cancer Manipulation"
   ]
  },
  {
   "cell_type": "markdown",
   "id": "5bb6417f",
   "metadata": {},
   "source": [
    "### importing libraries"
   ]
  },
  {
   "cell_type": "code",
   "execution_count": 28,
   "id": "e11c678a",
   "metadata": {
    "tags": []
   },
   "outputs": [],
   "source": [
    "import pandas as pd\n",
    "import keras\n",
    "from keras.models import Sequential\n",
    "from keras.layers import Dense\n",
    "from sklearn.model_selection import train_test_split\n",
    "from sklearn.metrics import confusion_matrix, accuracy_score"
   ]
  },
  {
   "cell_type": "markdown",
   "id": "7af508f4",
   "metadata": {},
   "source": [
    "### Load datasets"
   ]
  },
  {
   "cell_type": "code",
   "execution_count": 4,
   "id": "03d05b99",
   "metadata": {
    "tags": []
   },
   "outputs": [
    {
     "name": "stdout",
     "output_type": "stream",
     "text": [
      "(569, 30) (569, 1)\n"
     ]
    }
   ],
   "source": [
    "X = pd.read_csv('datasets/breast_cancer_input.csv')\n",
    "y = pd.read_csv('datasets/breast_cancer_output.csv')\n",
    "\n",
    "print(X.shape, y.shape)"
   ]
  },
  {
   "cell_type": "markdown",
   "id": "ed7ba959",
   "metadata": {},
   "source": [
    "### Splitting training and test bases"
   ]
  },
  {
   "cell_type": "code",
   "execution_count": 5,
   "id": "f3e42221",
   "metadata": {
    "tags": []
   },
   "outputs": [
    {
     "name": "stdout",
     "output_type": "stream",
     "text": [
      "(381, 30) (188, 30) (381, 1) (188, 1)\n"
     ]
    }
   ],
   "source": [
    "X_train, X_test, y_train, y_test = train_test_split(X, y, test_size=0.33)\n",
    "\n",
    "print(X_train.shape, X_test.shape, y_train.shape, y_test.shape)"
   ]
  },
  {
   "cell_type": "markdown",
   "id": "8e593962-98b5-4156-a42d-f1e969017f6f",
   "metadata": {},
   "source": [
    "### Initialize classifier object (more in: https://keras.io/api/layers/core_layers/dense/)"
   ]
  },
  {
   "cell_type": "code",
   "execution_count": 15,
   "id": "e4f20eb2",
   "metadata": {
    "tags": []
   },
   "outputs": [],
   "source": [
    "classifier = Sequential()\n",
    "# middle layer (relu)\n",
    "classifier.add(Dense(units=16, activation='relu', kernel_initializer='random_uniform', input_dim=30)) # units is 30 features + 1 divide by 2 \n",
    "# output layer (sigmoid)\n",
    "classifier.add(Dense(units=1, activation='sigmoid'))"
   ]
  },
  {
   "cell_type": "markdown",
   "id": "dae0664b-be17-465a-96e2-176673c18254",
   "metadata": {},
   "source": [
    "### Running and traning the neural network in train base (https://keras.io/api/models/model_training_apis/)"
   ]
  },
  {
   "cell_type": "code",
   "execution_count": 26,
   "id": "a4756b2b-307b-4a8d-84e9-bc535ed8613c",
   "metadata": {
    "collapsed": true,
    "jupyter": {
     "outputs_hidden": true
    },
    "tags": []
   },
   "outputs": [
    {
     "name": "stdout",
     "output_type": "stream",
     "text": [
      "Epoch 1/100\n",
      "39/39 [==============================] - 1s 5ms/step - loss: 0.1381 - binary_accuracy: 0.9580\n",
      "Epoch 2/100\n",
      "39/39 [==============================] - 0s 7ms/step - loss: 0.1440 - binary_accuracy: 0.9528\n",
      "Epoch 3/100\n",
      "39/39 [==============================] - 0s 5ms/step - loss: 0.1071 - binary_accuracy: 0.9580\n",
      "Epoch 4/100\n",
      "39/39 [==============================] - 0s 7ms/step - loss: 0.2144 - binary_accuracy: 0.9370\n",
      "Epoch 5/100\n",
      "39/39 [==============================] - 0s 7ms/step - loss: 0.1397 - binary_accuracy: 0.9528\n",
      "Epoch 6/100\n",
      "39/39 [==============================] - 0s 9ms/step - loss: 0.1097 - binary_accuracy: 0.9633\n",
      "Epoch 7/100\n",
      "39/39 [==============================] - 0s 8ms/step - loss: 0.1327 - binary_accuracy: 0.9554\n",
      "Epoch 8/100\n",
      "39/39 [==============================] - 0s 5ms/step - loss: 0.1526 - binary_accuracy: 0.9449\n",
      "Epoch 9/100\n",
      "39/39 [==============================] - 0s 7ms/step - loss: 0.1614 - binary_accuracy: 0.9501\n",
      "Epoch 10/100\n",
      "39/39 [==============================] - 0s 8ms/step - loss: 0.2390 - binary_accuracy: 0.9370\n",
      "Epoch 11/100\n",
      "39/39 [==============================] - 0s 7ms/step - loss: 0.1597 - binary_accuracy: 0.9475\n",
      "Epoch 12/100\n",
      "39/39 [==============================] - 0s 6ms/step - loss: 0.1541 - binary_accuracy: 0.9528\n",
      "Epoch 13/100\n",
      "39/39 [==============================] - 0s 7ms/step - loss: 0.1779 - binary_accuracy: 0.9501\n",
      "Epoch 14/100\n",
      "39/39 [==============================] - 0s 6ms/step - loss: 0.1264 - binary_accuracy: 0.9580\n",
      "Epoch 15/100\n",
      "39/39 [==============================] - 0s 8ms/step - loss: 0.1149 - binary_accuracy: 0.9659\n",
      "Epoch 16/100\n",
      "39/39 [==============================] - 0s 7ms/step - loss: 0.1092 - binary_accuracy: 0.9528\n",
      "Epoch 17/100\n",
      "39/39 [==============================] - 0s 8ms/step - loss: 0.1672 - binary_accuracy: 0.9475\n",
      "Epoch 18/100\n",
      "39/39 [==============================] - 0s 9ms/step - loss: 0.0965 - binary_accuracy: 0.9633\n",
      "Epoch 19/100\n",
      "39/39 [==============================] - 0s 9ms/step - loss: 0.6764 - binary_accuracy: 0.8924\n",
      "Epoch 20/100\n",
      "39/39 [==============================] - 0s 7ms/step - loss: 0.1254 - binary_accuracy: 0.9659\n",
      "Epoch 21/100\n",
      "39/39 [==============================] - 0s 6ms/step - loss: 0.1283 - binary_accuracy: 0.9580\n",
      "Epoch 22/100\n",
      "39/39 [==============================] - 0s 7ms/step - loss: 0.2355 - binary_accuracy: 0.9370\n",
      "Epoch 23/100\n",
      "39/39 [==============================] - 0s 6ms/step - loss: 0.1637 - binary_accuracy: 0.9528\n",
      "Epoch 24/100\n",
      "39/39 [==============================] - 0s 5ms/step - loss: 0.3687 - binary_accuracy: 0.9055\n",
      "Epoch 25/100\n",
      "39/39 [==============================] - 0s 5ms/step - loss: 0.1663 - binary_accuracy: 0.9554\n",
      "Epoch 26/100\n",
      "39/39 [==============================] - 0s 5ms/step - loss: 0.0902 - binary_accuracy: 0.9738\n",
      "Epoch 27/100\n",
      "39/39 [==============================] - 0s 4ms/step - loss: 0.1276 - binary_accuracy: 0.9554\n",
      "Epoch 28/100\n",
      "39/39 [==============================] - 0s 4ms/step - loss: 0.0915 - binary_accuracy: 0.9711\n",
      "Epoch 29/100\n",
      "39/39 [==============================] - 0s 8ms/step - loss: 0.1238 - binary_accuracy: 0.9606\n",
      "Epoch 30/100\n",
      "39/39 [==============================] - 0s 5ms/step - loss: 0.1370 - binary_accuracy: 0.9554\n",
      "Epoch 31/100\n",
      "39/39 [==============================] - 0s 4ms/step - loss: 0.0777 - binary_accuracy: 0.9738\n",
      "Epoch 32/100\n",
      "39/39 [==============================] - 0s 4ms/step - loss: 0.1080 - binary_accuracy: 0.9633\n",
      "Epoch 33/100\n",
      "39/39 [==============================] - 0s 4ms/step - loss: 0.3902 - binary_accuracy: 0.8976\n",
      "Epoch 34/100\n",
      "39/39 [==============================] - 0s 6ms/step - loss: 0.1342 - binary_accuracy: 0.9580\n",
      "Epoch 35/100\n",
      "39/39 [==============================] - 0s 4ms/step - loss: 0.0955 - binary_accuracy: 0.9738\n",
      "Epoch 36/100\n",
      "39/39 [==============================] - 0s 3ms/step - loss: 0.1573 - binary_accuracy: 0.9580\n",
      "Epoch 37/100\n",
      "39/39 [==============================] - 0s 3ms/step - loss: 0.1381 - binary_accuracy: 0.9554\n",
      "Epoch 38/100\n",
      "39/39 [==============================] - 0s 3ms/step - loss: 0.1148 - binary_accuracy: 0.9475\n",
      "Epoch 39/100\n",
      "39/39 [==============================] - 0s 3ms/step - loss: 0.1267 - binary_accuracy: 0.9528\n",
      "Epoch 40/100\n",
      "39/39 [==============================] - 0s 5ms/step - loss: 0.1140 - binary_accuracy: 0.9659\n",
      "Epoch 41/100\n",
      "39/39 [==============================] - 0s 3ms/step - loss: 0.1118 - binary_accuracy: 0.9554\n",
      "Epoch 42/100\n",
      "39/39 [==============================] - 0s 5ms/step - loss: 0.1280 - binary_accuracy: 0.9580\n",
      "Epoch 43/100\n",
      "39/39 [==============================] - 0s 3ms/step - loss: 0.1159 - binary_accuracy: 0.9659\n",
      "Epoch 44/100\n",
      "39/39 [==============================] - 0s 4ms/step - loss: 0.0761 - binary_accuracy: 0.9738\n",
      "Epoch 45/100\n",
      "39/39 [==============================] - 0s 7ms/step - loss: 0.0944 - binary_accuracy: 0.9606\n",
      "Epoch 46/100\n",
      "39/39 [==============================] - 0s 5ms/step - loss: 0.0754 - binary_accuracy: 0.9711\n",
      "Epoch 47/100\n",
      "39/39 [==============================] - 0s 5ms/step - loss: 0.0974 - binary_accuracy: 0.9580\n",
      "Epoch 48/100\n",
      "39/39 [==============================] - 0s 4ms/step - loss: 0.2279 - binary_accuracy: 0.9344\n",
      "Epoch 49/100\n",
      "39/39 [==============================] - 0s 3ms/step - loss: 0.1363 - binary_accuracy: 0.9528\n",
      "Epoch 50/100\n",
      "39/39 [==============================] - 0s 3ms/step - loss: 0.0903 - binary_accuracy: 0.9580\n",
      "Epoch 51/100\n",
      "39/39 [==============================] - 0s 3ms/step - loss: 0.1023 - binary_accuracy: 0.9685\n",
      "Epoch 52/100\n",
      "39/39 [==============================] - 0s 5ms/step - loss: 0.1218 - binary_accuracy: 0.9501\n",
      "Epoch 53/100\n",
      "39/39 [==============================] - 0s 6ms/step - loss: 0.2019 - binary_accuracy: 0.9501\n",
      "Epoch 54/100\n",
      "39/39 [==============================] - 0s 9ms/step - loss: 0.1759 - binary_accuracy: 0.9501\n",
      "Epoch 55/100\n",
      "39/39 [==============================] - 0s 5ms/step - loss: 0.1192 - binary_accuracy: 0.9633\n",
      "Epoch 56/100\n",
      "39/39 [==============================] - 0s 4ms/step - loss: 0.1865 - binary_accuracy: 0.9501\n",
      "Epoch 57/100\n",
      "39/39 [==============================] - 0s 4ms/step - loss: 0.1196 - binary_accuracy: 0.9580\n",
      "Epoch 58/100\n",
      "39/39 [==============================] - 0s 8ms/step - loss: 0.1207 - binary_accuracy: 0.9580\n",
      "Epoch 59/100\n",
      "39/39 [==============================] - 0s 6ms/step - loss: 0.1050 - binary_accuracy: 0.9528\n",
      "Epoch 60/100\n",
      "39/39 [==============================] - 0s 4ms/step - loss: 0.1117 - binary_accuracy: 0.9528\n",
      "Epoch 61/100\n",
      "39/39 [==============================] - 0s 3ms/step - loss: 0.5762 - binary_accuracy: 0.9134\n",
      "Epoch 62/100\n",
      "39/39 [==============================] - 0s 3ms/step - loss: 0.1548 - binary_accuracy: 0.9528\n",
      "Epoch 63/100\n",
      "39/39 [==============================] - 0s 4ms/step - loss: 0.1789 - binary_accuracy: 0.9423\n",
      "Epoch 64/100\n",
      "39/39 [==============================] - 0s 6ms/step - loss: 0.0844 - binary_accuracy: 0.9711\n",
      "Epoch 65/100\n",
      "39/39 [==============================] - 0s 4ms/step - loss: 0.1159 - binary_accuracy: 0.9554\n",
      "Epoch 66/100\n",
      "39/39 [==============================] - 0s 4ms/step - loss: 0.0865 - binary_accuracy: 0.9633\n",
      "Epoch 67/100\n",
      "39/39 [==============================] - 0s 4ms/step - loss: 0.0834 - binary_accuracy: 0.9738\n",
      "Epoch 68/100\n",
      "39/39 [==============================] - 0s 3ms/step - loss: 0.0838 - binary_accuracy: 0.9606\n",
      "Epoch 69/100\n",
      "39/39 [==============================] - 0s 5ms/step - loss: 0.0754 - binary_accuracy: 0.9659\n",
      "Epoch 70/100\n",
      "39/39 [==============================] - 0s 4ms/step - loss: 0.1080 - binary_accuracy: 0.9580\n",
      "Epoch 71/100\n",
      "39/39 [==============================] - 0s 3ms/step - loss: 0.1457 - binary_accuracy: 0.9528\n",
      "Epoch 72/100\n",
      "39/39 [==============================] - 0s 3ms/step - loss: 0.1060 - binary_accuracy: 0.9633\n",
      "Epoch 73/100\n",
      "39/39 [==============================] - 0s 3ms/step - loss: 0.0991 - binary_accuracy: 0.9580\n",
      "Epoch 74/100\n",
      "39/39 [==============================] - 0s 3ms/step - loss: 0.0887 - binary_accuracy: 0.9685\n",
      "Epoch 75/100\n",
      "39/39 [==============================] - 0s 3ms/step - loss: 0.0956 - binary_accuracy: 0.9580\n",
      "Epoch 76/100\n",
      "39/39 [==============================] - 0s 6ms/step - loss: 0.1013 - binary_accuracy: 0.9606\n",
      "Epoch 77/100\n",
      "39/39 [==============================] - 0s 8ms/step - loss: 0.3531 - binary_accuracy: 0.9029\n",
      "Epoch 78/100\n",
      "39/39 [==============================] - 0s 7ms/step - loss: 0.1027 - binary_accuracy: 0.9580\n",
      "Epoch 79/100\n",
      "39/39 [==============================] - 0s 6ms/step - loss: 0.1127 - binary_accuracy: 0.9528\n",
      "Epoch 80/100\n",
      "39/39 [==============================] - 0s 5ms/step - loss: 0.1565 - binary_accuracy: 0.9370\n",
      "Epoch 81/100\n",
      "39/39 [==============================] - 0s 6ms/step - loss: 0.2027 - binary_accuracy: 0.9475\n",
      "Epoch 82/100\n",
      "39/39 [==============================] - 0s 8ms/step - loss: 0.1227 - binary_accuracy: 0.9633\n",
      "Epoch 83/100\n",
      "39/39 [==============================] - 0s 5ms/step - loss: 0.1522 - binary_accuracy: 0.9449\n",
      "Epoch 84/100\n",
      "39/39 [==============================] - 0s 8ms/step - loss: 0.1010 - binary_accuracy: 0.9580\n",
      "Epoch 85/100\n",
      "39/39 [==============================] - 0s 5ms/step - loss: 0.5760 - binary_accuracy: 0.8950\n",
      "Epoch 86/100\n",
      "39/39 [==============================] - 0s 4ms/step - loss: 0.1884 - binary_accuracy: 0.9449\n",
      "Epoch 87/100\n",
      "39/39 [==============================] - 0s 9ms/step - loss: 0.1608 - binary_accuracy: 0.9475\n",
      "Epoch 88/100\n",
      "39/39 [==============================] - 0s 7ms/step - loss: 0.1196 - binary_accuracy: 0.9554\n",
      "Epoch 89/100\n",
      "39/39 [==============================] - 0s 5ms/step - loss: 0.1088 - binary_accuracy: 0.9606\n",
      "Epoch 90/100\n",
      "39/39 [==============================] - 0s 4ms/step - loss: 0.0875 - binary_accuracy: 0.9685\n",
      "Epoch 91/100\n",
      "39/39 [==============================] - 0s 5ms/step - loss: 0.0800 - binary_accuracy: 0.9659\n",
      "Epoch 92/100\n",
      "39/39 [==============================] - 0s 4ms/step - loss: 0.1065 - binary_accuracy: 0.9659\n",
      "Epoch 93/100\n",
      "39/39 [==============================] - 0s 5ms/step - loss: 0.1188 - binary_accuracy: 0.9528\n",
      "Epoch 94/100\n",
      "39/39 [==============================] - 0s 5ms/step - loss: 0.0713 - binary_accuracy: 0.9685\n",
      "Epoch 95/100\n",
      "39/39 [==============================] - 0s 4ms/step - loss: 0.2694 - binary_accuracy: 0.9213\n",
      "Epoch 96/100\n",
      "39/39 [==============================] - 0s 6ms/step - loss: 0.1164 - binary_accuracy: 0.9606\n",
      "Epoch 97/100\n",
      "39/39 [==============================] - 0s 5ms/step - loss: 0.1101 - binary_accuracy: 0.9659\n",
      "Epoch 98/100\n",
      "39/39 [==============================] - 0s 3ms/step - loss: 0.5815 - binary_accuracy: 0.8661\n",
      "Epoch 99/100\n",
      "39/39 [==============================] - 0s 3ms/step - loss: 0.1585 - binary_accuracy: 0.9449\n",
      "Epoch 100/100\n",
      "39/39 [==============================] - 0s 3ms/step - loss: 0.1151 - binary_accuracy: 0.9554\n"
     ]
    },
    {
     "data": {
      "text/plain": [
       "<keras.callbacks.History at 0x7f0d9d069e10>"
      ]
     },
     "execution_count": 26,
     "metadata": {},
     "output_type": "execute_result"
    }
   ],
   "source": [
    "classifier.compile(optimizer='adam', loss='binary_crossentropy', metrics=['binary_accuracy']) # only 2 classes then binary\n",
    "classifier.fit(X_train, y_train, batch_size=10, epochs=100, )"
   ]
  },
  {
   "cell_type": "markdown",
   "id": "265758fc-4e72-461d-9ab4-29d82c97b35a",
   "metadata": {},
   "source": [
    "### Prediction in test base"
   ]
  },
  {
   "cell_type": "code",
   "execution_count": 38,
   "id": "d9a90b86-bc3a-4384-84d3-34d7bc1a960a",
   "metadata": {
    "collapsed": true,
    "jupyter": {
     "outputs_hidden": true
    },
    "tags": []
   },
   "outputs": [
    {
     "name": "stdout",
     "output_type": "stream",
     "text": [
      "6/6 [==============================] - 0s 9ms/step\n"
     ]
    },
    {
     "data": {
      "text/plain": [
       "array([[ True],\n",
       "       [ True],\n",
       "       [ True],\n",
       "       [ True],\n",
       "       [ True],\n",
       "       [ True],\n",
       "       [ True],\n",
       "       [False],\n",
       "       [False],\n",
       "       [ True],\n",
       "       [ True],\n",
       "       [ True],\n",
       "       [ True],\n",
       "       [ True],\n",
       "       [False],\n",
       "       [ True],\n",
       "       [False],\n",
       "       [False],\n",
       "       [False],\n",
       "       [ True],\n",
       "       [ True],\n",
       "       [ True],\n",
       "       [ True],\n",
       "       [ True],\n",
       "       [ True],\n",
       "       [ True],\n",
       "       [False],\n",
       "       [ True],\n",
       "       [ True],\n",
       "       [ True],\n",
       "       [ True],\n",
       "       [ True],\n",
       "       [ True],\n",
       "       [ True],\n",
       "       [ True],\n",
       "       [ True],\n",
       "       [ True],\n",
       "       [False],\n",
       "       [ True],\n",
       "       [ True],\n",
       "       [False],\n",
       "       [ True],\n",
       "       [ True],\n",
       "       [ True],\n",
       "       [ True],\n",
       "       [False],\n",
       "       [False],\n",
       "       [ True],\n",
       "       [ True],\n",
       "       [ True],\n",
       "       [ True],\n",
       "       [ True],\n",
       "       [ True],\n",
       "       [ True],\n",
       "       [ True],\n",
       "       [False],\n",
       "       [ True],\n",
       "       [False],\n",
       "       [ True],\n",
       "       [ True],\n",
       "       [False],\n",
       "       [ True],\n",
       "       [ True],\n",
       "       [ True],\n",
       "       [ True],\n",
       "       [ True],\n",
       "       [False],\n",
       "       [False],\n",
       "       [ True],\n",
       "       [ True],\n",
       "       [ True],\n",
       "       [ True],\n",
       "       [ True],\n",
       "       [ True],\n",
       "       [False],\n",
       "       [False],\n",
       "       [False],\n",
       "       [ True],\n",
       "       [ True],\n",
       "       [False],\n",
       "       [ True],\n",
       "       [False],\n",
       "       [ True],\n",
       "       [ True],\n",
       "       [False],\n",
       "       [False],\n",
       "       [False],\n",
       "       [ True],\n",
       "       [ True],\n",
       "       [ True],\n",
       "       [False],\n",
       "       [False],\n",
       "       [False],\n",
       "       [False],\n",
       "       [False],\n",
       "       [ True],\n",
       "       [False],\n",
       "       [ True],\n",
       "       [ True],\n",
       "       [ True],\n",
       "       [ True],\n",
       "       [ True],\n",
       "       [False],\n",
       "       [False],\n",
       "       [ True],\n",
       "       [ True],\n",
       "       [ True],\n",
       "       [ True],\n",
       "       [False],\n",
       "       [ True],\n",
       "       [False],\n",
       "       [False],\n",
       "       [False],\n",
       "       [ True],\n",
       "       [ True],\n",
       "       [ True],\n",
       "       [ True],\n",
       "       [False],\n",
       "       [ True],\n",
       "       [ True],\n",
       "       [ True],\n",
       "       [False],\n",
       "       [ True],\n",
       "       [ True],\n",
       "       [ True],\n",
       "       [ True],\n",
       "       [False],\n",
       "       [ True],\n",
       "       [ True],\n",
       "       [ True],\n",
       "       [ True],\n",
       "       [ True],\n",
       "       [ True],\n",
       "       [False],\n",
       "       [ True],\n",
       "       [ True],\n",
       "       [False],\n",
       "       [False],\n",
       "       [False],\n",
       "       [ True],\n",
       "       [ True],\n",
       "       [False],\n",
       "       [ True],\n",
       "       [False],\n",
       "       [ True],\n",
       "       [ True],\n",
       "       [ True],\n",
       "       [ True],\n",
       "       [ True],\n",
       "       [ True],\n",
       "       [ True],\n",
       "       [False],\n",
       "       [ True],\n",
       "       [ True],\n",
       "       [False],\n",
       "       [ True],\n",
       "       [False],\n",
       "       [ True],\n",
       "       [False],\n",
       "       [ True],\n",
       "       [False],\n",
       "       [False],\n",
       "       [ True],\n",
       "       [ True],\n",
       "       [False],\n",
       "       [ True],\n",
       "       [ True],\n",
       "       [ True],\n",
       "       [ True],\n",
       "       [False],\n",
       "       [False],\n",
       "       [ True],\n",
       "       [ True],\n",
       "       [False],\n",
       "       [ True],\n",
       "       [ True],\n",
       "       [ True],\n",
       "       [False],\n",
       "       [ True],\n",
       "       [ True],\n",
       "       [False],\n",
       "       [False],\n",
       "       [ True],\n",
       "       [ True],\n",
       "       [False],\n",
       "       [False],\n",
       "       [ True],\n",
       "       [ True]])"
      ]
     },
     "execution_count": 38,
     "metadata": {},
     "output_type": "execute_result"
    }
   ],
   "source": [
    "y_hat = classifier.predict(X_test) # values between zero and one\n",
    "y_hat = y_hat > 0.5 # values True > 0.5 or False <= 0.5\n",
    "y_hat"
   ]
  },
  {
   "cell_type": "markdown",
   "id": "89304083-bb9d-43e3-a120-511c1511aefa",
   "metadata": {},
   "source": [
    "### Score in test base"
   ]
  },
  {
   "cell_type": "code",
   "execution_count": 44,
   "id": "ae9ce3a0-04e3-4ff4-a6e5-b464569adfda",
   "metadata": {
    "tags": []
   },
   "outputs": [
    {
     "data": {
      "text/plain": [
       "0.9095744680851063"
      ]
     },
     "execution_count": 44,
     "metadata": {},
     "output_type": "execute_result"
    }
   ],
   "source": [
    "precision1 = accuracy_score(y_test, y_hat) # percentage\n",
    "precision1"
   ]
  },
  {
   "cell_type": "code",
   "execution_count": 46,
   "id": "fede1ce6-28db-406d-8d4b-d6de0d63a25d",
   "metadata": {
    "tags": []
   },
   "outputs": [
    {
     "data": {
      "text/plain": [
       "array([[ 55,  12],\n",
       "       [  5, 116]])"
      ]
     },
     "execution_count": 46,
     "metadata": {},
     "output_type": "execute_result"
    }
   ],
   "source": [
    "precision2 = confusion_matrix(y_test, y_hat) # rows are real, columns are predic\n",
    "precision2"
   ]
  },
  {
   "cell_type": "code",
   "execution_count": 52,
   "id": "3980d237-4ab5-4338-86d2-fc0b8dc691e6",
   "metadata": {
    "tags": []
   },
   "outputs": [
    {
     "name": "stdout",
     "output_type": "stream",
     "text": [
      "6/6 [==============================] - 0s 3ms/step - loss: 0.3217 - binary_accuracy: 0.9096\n"
     ]
    }
   ],
   "source": [
    "precision3 = classifier.evaluate(X_test, y_test) # loss and accuracy"
   ]
  },
  {
   "cell_type": "markdown",
   "id": "ed37e236-f697-4abe-a5cb-e2cce991fb7e",
   "metadata": {},
   "source": [
    "## Using optimizer parameters (https://keras.io/api/optimizers/)"
   ]
  },
  {
   "cell_type": "code",
   "execution_count": 72,
   "id": "d89f47cc-e59c-4cae-8b77-22a52f3b97f8",
   "metadata": {
    "tags": []
   },
   "outputs": [
    {
     "name": "stdout",
     "output_type": "stream",
     "text": [
      "6/6 [==============================] - 0s 8ms/step - loss: 0.5490 - binary_accuracy: 0.8564\n"
     ]
    },
    {
     "data": {
      "text/plain": [
       "[0.5489733815193176, 0.8563829660415649]"
      ]
     },
     "execution_count": 72,
     "metadata": {},
     "output_type": "execute_result"
    }
   ],
   "source": [
    "classifier2 = Sequential()\n",
    "\n",
    "classifier2.add(Dense(units=16, activation='relu', kernel_initializer='random_uniform', input_dim=30)) # middle layer 1 (relu)\n",
    "classifier2.add(Dense(units=8, activation='relu', kernel_initializer='random_uniform')) # middle layer 2 (relu)\n",
    "classifier2.add(Dense(units=4, activation='relu', kernel_initializer='random_uniform')) # middle layer 3 (relu)\n",
    "classifier2.add(Dense(units=2, activation='relu', kernel_initializer='random_uniform')) # middle layer 4 (relu)\n",
    "classifier2.add(Dense(units=1, activation='sigmoid')) # output layer (sigmoid)\n",
    "\n",
    "optimazer = keras.optimizers.Adam(learning_rate=0.001, decay=0.0001, clipvalue=0.5) # make own optimazer\n",
    "\n",
    "classifier2.compile(optimizer=optimazer, loss='binary_crossentropy', metrics=['binary_accuracy']) \n",
    "classifier2.fit(X_train, y_train, batch_size=10, epochs=100, verbose=0)\n",
    "\n",
    "classifier2.evaluate(X_test, y_test) # much worse accuracy, wait..."
   ]
  },
  {
   "cell_type": "markdown",
   "id": "78fc0a37-1d36-4f88-8eaf-f7a9e6a0e372",
   "metadata": {},
   "source": [
    "### Visualizing weights"
   ]
  },
  {
   "cell_type": "code",
   "execution_count": 98,
   "id": "0dea4d6a-0069-4778-ad2f-869ba8d3eea1",
   "metadata": {
    "tags": []
   },
   "outputs": [
    {
     "name": "stdout",
     "output_type": "stream",
     "text": [
      "16\n",
      "8\n",
      "4\n",
      "2\n",
      "1\n"
     ]
    }
   ],
   "source": [
    "# a set of people for each layer\n",
    "# bias is True by default\n",
    "for layer in classifier2.layers:\n",
    "    weights = layer.get_weights() \n",
    "    print(len(weights[1])) "
   ]
  }
 ],
 "metadata": {
  "kernelspec": {
   "display_name": "Python 3 (ipykernel)",
   "language": "python",
   "name": "python3"
  },
  "language_info": {
   "codemirror_mode": {
    "name": "ipython",
    "version": 3
   },
   "file_extension": ".py",
   "mimetype": "text/x-python",
   "name": "python",
   "nbconvert_exporter": "python",
   "pygments_lexer": "ipython3",
   "version": "3.10.12"
  }
 },
 "nbformat": 4,
 "nbformat_minor": 5
}
