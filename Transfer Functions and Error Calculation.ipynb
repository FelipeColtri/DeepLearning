{
 "cells": [
  {
   "cell_type": "markdown",
   "id": "d6564717",
   "metadata": {},
   "source": [
    "# Exemple of Transfer Functions"
   ]
  },
  {
   "cell_type": "code",
   "execution_count": 2,
   "id": "49f97910",
   "metadata": {},
   "outputs": [],
   "source": [
    "import numpy as np"
   ]
  },
  {
   "cell_type": "markdown",
   "id": "988a4f0f",
   "metadata": {},
   "source": [
    "### Return zero or one, for linearly separable probelams:"
   ]
  },
  {
   "cell_type": "code",
   "execution_count": 10,
   "id": "2ab86b8c",
   "metadata": {},
   "outputs": [],
   "source": [
    "def step(value):\n",
    "    return 1 if value > 0 else 0"
   ]
  },
  {
   "cell_type": "markdown",
   "id": "7e3d6ed1",
   "metadata": {},
   "source": [
    "### Return values between zero and one:"
   ]
  },
  {
   "cell_type": "code",
   "execution_count": 13,
   "id": "c1f3ac6a",
   "metadata": {},
   "outputs": [],
   "source": [
    "def sigmoid(value):\n",
    "    return 1 / (1 + np.exp(-value))"
   ]
  },
  {
   "cell_type": "markdown",
   "id": "22c247dd",
   "metadata": {},
   "source": [
    "### Return values between minus one and one:"
   ]
  },
  {
   "cell_type": "code",
   "execution_count": 21,
   "id": "63c132ec",
   "metadata": {},
   "outputs": [],
   "source": [
    "def tanh(value):\n",
    "    return (np.exp(value) - np.exp(-value)) / (np.exp(value) + np.exp(-value))"
   ]
  },
  {
   "cell_type": "markdown",
   "id": "5d2c7dab",
   "metadata": {},
   "source": [
    "### Return the own value or zero, used in convolutional multilayer neural networks:"
   ]
  },
  {
   "cell_type": "code",
   "execution_count": 17,
   "id": "0e84a32f",
   "metadata": {},
   "outputs": [],
   "source": [
    "def relu(value):\n",
    "    return value if value > 0 else 0"
   ]
  },
  {
   "cell_type": "markdown",
   "id": "252cd496",
   "metadata": {},
   "source": [
    "### Return the own value, used for linear regression:"
   ]
  },
  {
   "cell_type": "code",
   "execution_count": 18,
   "id": "fe551fc5",
   "metadata": {},
   "outputs": [],
   "source": [
    "def linear(value):\n",
    "    return value"
   ]
  },
  {
   "cell_type": "markdown",
   "id": "ee52d976",
   "metadata": {},
   "source": [
    "### Returns probability for problems with more than two classes:"
   ]
  },
  {
   "cell_type": "markdown",
   "id": "ffb11150",
   "metadata": {},
   "source": [
    "def softmax(values):\n",
    "    return np.exp(values) / np.exp(values).sum()"
   ]
  },
  {
   "cell_type": "markdown",
   "id": "8ec3add6",
   "metadata": {},
   "source": [
    "## Testing:"
   ]
  },
  {
   "cell_type": "code",
   "execution_count": 44,
   "id": "17776725",
   "metadata": {},
   "outputs": [
    {
     "name": "stdout",
     "output_type": "stream",
     "text": [
      "1 0.8909031788043871 0.9704519366134541 2.1 2.1\n"
     ]
    }
   ],
   "source": [
    "x = [5, 2, 1]\n",
    "w = [0.2, 0.5, 0.1]\n",
    "\n",
    "soma = 0\n",
    "for i in range(len(x)):\n",
    "    soma += x[i] * w[i]\n",
    "    \n",
    "print(step(soma), sigmoid(soma), tanh(soma), relu(soma), linear(soma))"
   ]
  },
  {
   "cell_type": "markdown",
   "id": "8697af10",
   "metadata": {},
   "source": [
    "-------------------------------\n",
    "# Error Calculation"
   ]
  },
  {
   "cell_type": "markdown",
   "id": "56ace0c3",
   "metadata": {},
   "source": [
    "### Mean Absolute Error:"
   ]
  },
  {
   "cell_type": "code",
   "execution_count": 56,
   "id": "6fa86c7d",
   "metadata": {},
   "outputs": [],
   "source": [
    "def mae(y, y_hat):\n",
    "    return np.sum(y - y_hat) / np.size(y)"
   ]
  },
  {
   "cell_type": "markdown",
   "id": "3893b077",
   "metadata": {},
   "source": [
    "### Mean Squared Error:"
   ]
  },
  {
   "cell_type": "code",
   "execution_count": 66,
   "id": "daabc61d",
   "metadata": {},
   "outputs": [],
   "source": [
    "def mse(y, y_hat):\n",
    "    return np.power(np.sum(y - y_hat), 2) / np.size(y)"
   ]
  },
  {
   "cell_type": "markdown",
   "id": "c76d3de5",
   "metadata": {},
   "source": [
    "### Root Mean Squared Error:"
   ]
  },
  {
   "cell_type": "code",
   "execution_count": 52,
   "id": "c11efcb5",
   "metadata": {},
   "outputs": [],
   "source": [
    "def rmse(y, y_hat):\n",
    "    return np.sqrt(mse(y, y_hat))"
   ]
  },
  {
   "cell_type": "markdown",
   "id": "e12f0842",
   "metadata": {},
   "source": [
    "## Testing:"
   ]
  },
  {
   "cell_type": "code",
   "execution_count": 67,
   "id": "c62886b2",
   "metadata": {},
   "outputs": [
    {
     "name": "stdout",
     "output_type": "stream",
     "text": [
      "0.11749999999999998 0.05522499999999998 0.23499999999999996\n"
     ]
    }
   ],
   "source": [
    "y = np.array([1, 0, 1, 0])\n",
    "y_hat = np.array([0.3, 0.02, 0.89, 0.32])\n",
    "\n",
    "print(mae(y, y_hat), mse(y, y_hat), rmse(y, y_hat))"
   ]
  }
 ],
 "metadata": {
  "kernelspec": {
   "display_name": "Python 3 (ipykernel)",
   "language": "python",
   "name": "python3"
  },
  "language_info": {
   "codemirror_mode": {
    "name": "ipython",
    "version": 3
   },
   "file_extension": ".py",
   "mimetype": "text/x-python",
   "name": "python",
   "nbconvert_exporter": "python",
   "pygments_lexer": "ipython3",
   "version": "3.10.9"
  }
 },
 "nbformat": 4,
 "nbformat_minor": 5
}
