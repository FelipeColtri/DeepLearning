{
 "cells": [
  {
   "cell_type": "markdown",
   "id": "f148952d",
   "metadata": {},
   "source": [
    "# Exemple of Transfer Functions"
   ]
  },
  {
   "cell_type": "code",
   "execution_count": 2,
   "id": "71f897db",
   "metadata": {},
   "outputs": [],
   "source": [
    "import numpy as np"
   ]
  },
  {
   "cell_type": "markdown",
   "id": "95c182e2",
   "metadata": {},
   "source": [
    "### Return zero or one, for linearly separable probelams:"
   ]
  },
  {
   "cell_type": "code",
   "execution_count": 10,
   "id": "6f761092",
   "metadata": {},
   "outputs": [],
   "source": [
    "def step(value):\n",
    "    return 1 if value > 0 else 0"
   ]
  },
  {
   "cell_type": "markdown",
   "id": "ffb8bb23",
   "metadata": {},
   "source": [
    "### Return values between zero and one:"
   ]
  },
  {
   "cell_type": "code",
   "execution_count": 13,
   "id": "24f67bba",
   "metadata": {},
   "outputs": [],
   "source": [
    "def sigmoid(value):\n",
    "    return 1 / (1 + np.exp(-value))"
   ]
  },
  {
   "cell_type": "markdown",
   "id": "c1be4be2",
   "metadata": {},
   "source": [
    "### Return values between minus one and one:"
   ]
  },
  {
   "cell_type": "code",
   "execution_count": 21,
   "id": "d93ec3a2",
   "metadata": {},
   "outputs": [],
   "source": [
    "def tanh(value):\n",
    "    return (np.exp(value) - np.exp(-value)) / (np.exp(value) + np.exp(-value))"
   ]
  },
  {
   "cell_type": "markdown",
   "id": "9e343508",
   "metadata": {},
   "source": [
    "### Return the own value or zero, used in convolutional multilayer neural networks:"
   ]
  },
  {
   "cell_type": "code",
   "execution_count": 17,
   "id": "fdfe48e8",
   "metadata": {},
   "outputs": [],
   "source": [
    "def relu(value):\n",
    "    return value if value > 0 else 0"
   ]
  },
  {
   "cell_type": "markdown",
   "id": "382f216b",
   "metadata": {},
   "source": [
    "### Return the own value, used for linear regression:"
   ]
  },
  {
   "cell_type": "code",
   "execution_count": 18,
   "id": "90d5bbbe",
   "metadata": {},
   "outputs": [],
   "source": [
    "def linear(value):\n",
    "    return value"
   ]
  },
  {
   "cell_type": "markdown",
   "id": "6d414ef8",
   "metadata": {},
   "source": [
    "### Returns probability for problems with more than two classes:"
   ]
  },
  {
   "cell_type": "markdown",
   "id": "f220d337",
   "metadata": {},
   "source": [
    "def softmax(values):\n",
    "    return np.exp(values) / np.exp(values).sum()"
   ]
  },
  {
   "cell_type": "markdown",
   "id": "f1fc93f8",
   "metadata": {},
   "source": [
    "## Testing:"
   ]
  },
  {
   "cell_type": "code",
   "execution_count": 44,
   "id": "827b57f2",
   "metadata": {},
   "outputs": [
    {
     "name": "stdout",
     "output_type": "stream",
     "text": [
      "1 0.8909031788043871 0.9704519366134541 2.1 2.1\n"
     ]
    }
   ],
   "source": [
    "x = [5, 2, 1]\n",
    "w = [0.2, 0.5, 0.1]\n",
    "\n",
    "soma = 0\n",
    "for i in range(len(x)):\n",
    "    soma += x[i] * w[i]\n",
    "    \n",
    "print(step(soma), sigmoid(soma), tanh(soma), relu(soma), linear(soma))"
   ]
  },
  {
   "cell_type": "markdown",
   "id": "9dec1a92",
   "metadata": {},
   "source": [
    "-------------------------------\n",
    "# Erros calculation"
   ]
  },
  {
   "cell_type": "markdown",
   "id": "b984b710",
   "metadata": {},
   "source": [
    "### Mean Absolute Error:"
   ]
  },
  {
   "cell_type": "code",
   "execution_count": 56,
   "id": "21a54ad3",
   "metadata": {},
   "outputs": [],
   "source": [
    "def mae(y, y_hat):\n",
    "    return np.sum(y - y_hat) / np.size(y)"
   ]
  },
  {
   "cell_type": "markdown",
   "id": "1c6797eb",
   "metadata": {},
   "source": [
    "### Mean Squared Error:"
   ]
  },
  {
   "cell_type": "code",
   "execution_count": 66,
   "id": "e49ab2c5",
   "metadata": {},
   "outputs": [],
   "source": [
    "def mse(y, y_hat):\n",
    "    return np.power(np.sum(y - y_hat), 2) / np.size(y)"
   ]
  },
  {
   "cell_type": "markdown",
   "id": "a9ee8cc3",
   "metadata": {},
   "source": [
    "### Root Mean Squared Error:"
   ]
  },
  {
   "cell_type": "code",
   "execution_count": 52,
   "id": "489b63c6",
   "metadata": {},
   "outputs": [],
   "source": [
    "def rmse(y, y_hat):\n",
    "    return np.sqrt(mse(y, y_hat))"
   ]
  },
  {
   "cell_type": "markdown",
   "id": "ede84863",
   "metadata": {},
   "source": [
    "## Testing:"
   ]
  },
  {
   "cell_type": "code",
   "execution_count": 67,
   "id": "b80984f1",
   "metadata": {},
   "outputs": [
    {
     "name": "stdout",
     "output_type": "stream",
     "text": [
      "0.11749999999999998 0.05522499999999998 0.23499999999999996\n"
     ]
    }
   ],
   "source": [
    "y = np.array([1, 0, 1, 0])\n",
    "y_hat = np.array([0.3, 0.02, 0.89, 0.32])\n",
    "\n",
    "print(mae(y, y_hat), mse(y, y_hat), rmse(y, y_hat))"
   ]
  }
 ],
 "metadata": {
  "kernelspec": {
   "display_name": "Python 3 (ipykernel)",
   "language": "python",
   "name": "python3"
  },
  "language_info": {
   "codemirror_mode": {
    "name": "ipython",
    "version": 3
   },
   "file_extension": ".py",
   "mimetype": "text/x-python",
   "name": "python",
   "nbconvert_exporter": "python",
   "pygments_lexer": "ipython3",
   "version": "3.10.9"
  }
 },
 "nbformat": 4,
 "nbformat_minor": 5
}
